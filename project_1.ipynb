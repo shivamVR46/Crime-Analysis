{
 "cells": [
  {
   "cell_type": "markdown",
   "metadata": {},
   "source": [
    "#----------------------------------------------------------------------------------------#\n",
    "#### Project 1\n",
    "#### Written by - Pinkal Shah (40102983) and Shivam Patel(40102755)\n",
    "#### For COMP 6721 Section(FJ) - Fall 2019 \n",
    "#----------------------------------------------------------------------------------------#\n"
   ]
  },
  {
   "cell_type": "markdown",
   "metadata": {},
   "source": [
    "Importing all the required libraries and dependencies."
   ]
  },
  {
   "cell_type": "code",
   "execution_count": 135,
   "metadata": {},
   "outputs": [],
   "source": [
    "import geopandas as gp\n",
    "from geopandas import GeoDataFrame\n",
    "import numpy as np\n",
    "import matplotlib.pyplot as plt\n",
    "import math \n",
    "import heapq as hq\n",
    "%matplotlib inline\n",
    "import _locale\n",
    "_locale._getdefaultlocale = (lambda *args: ['en_US', 'utf8'])\n",
    "import time\n",
    "import matplotlib.ticker as plticker"
   ]
  },
  {
   "cell_type": "markdown",
   "metadata": {},
   "source": [
    "Below is the starting function which is the entry point for the program and this calls all the other required functions.\n",
    "1. Loading the shape file from the directory.\n",
    "2. Input Grid Size(format example: 0.003) and Threshold"
   ]
  },
  {
   "cell_type": "code",
   "execution_count": 136,
   "metadata": {},
   "outputs": [],
   "source": [
    "def showMap():\n",
    "    \n",
    "    path = \"Shape\\crime_dt.shp\"\n",
    "    \n",
    "    test = GeoDataFrame.from_file(path,encoding='latin-1')\n",
    "    points = test['geometry']\n",
    "    xA = np.array(test['geometry'].x)\n",
    "    yA = np.array(test['geometry'].y)\n",
    "\n",
    "    gridSize = input(\"Enter grid size : \" )\n",
    "    threshold = input(\"Enter Threshold : \")\n",
    "    threshold = int(threshold)\n",
    "    gridSize = float(gridSize) \n",
    "    \n",
    "    calculateThreshold(points,xA,yA,threshold,gridSize)"
   ]
  },
  {
   "cell_type": "markdown",
   "metadata": {},
   "source": [
    "#### Helper Function\n",
    "heuristicFunction() -  Calculates the pythagorean distance between 2 points"
   ]
  },
  {
   "cell_type": "code",
   "execution_count": 137,
   "metadata": {},
   "outputs": [],
   "source": [
    "def heuristicFunction(x, y):\n",
    "    value =  np.sqrt((y[0] - x[0]) ** 2 + (y[1] - x[1]) ** 2)\n",
    "    return value"
   ]
  },
  {
   "cell_type": "markdown",
   "metadata": {},
   "source": [
    "#### Helper Function\n",
    "pathCalculate() - This implements the A* heuristic search to calculate the optimal path\n",
    "The algorithm starts with the start location and using the heuristic function to calculate the F(n) using the cost of nodes and path i.e., F(n) = G(n) + Cost. \n",
    "\n",
    "f(n) = g(n) + h(n), where \n",
    "\n",
    "f(n) estimate of total cost along path through n\n",
    "\n",
    "g(n) actual cost of path from start to node n\n",
    "\n",
    "h(n) estimate of cost to reach goal from node n"
   ]
  },
  {
   "cell_type": "code",
   "execution_count": 138,
   "metadata": {},
   "outputs": [],
   "source": [
    "def pathCalculate(array,start,end,value,status,directions,fn,shortestPath,positions,pathDict,gn,hq):\n",
    "    \n",
    "    while shortestPath:\n",
    "\n",
    "        current = hq.heappop(shortestPath)[1]\n",
    "        if current == end:\n",
    "            while current in pathDict:\n",
    "                value.append(current)\n",
    "                current = pathDict[current]\n",
    "            return value\n",
    "\n",
    "        positions.add(current)\n",
    "        for i, j in directions:\n",
    "            adjacent = current[0] + i, current[1] + j\n",
    "            temp_g = gn[current] + heuristicFunction(current, adjacent)\n",
    "            if 0 <= adjacent[0] < array.shape[0]:\n",
    "                if 0 <= adjacent[1] < array.shape[1]:                \n",
    "                    if array[adjacent[0]][adjacent[1]] == 1:\n",
    "                        continue\n",
    "                else:\n",
    "                    # out of bound for Y axis\n",
    "                    continue  \n",
    "            else:\n",
    "                 # out of bound for X axis\n",
    "                continue \n",
    "                 \n",
    "            if adjacent in positions and temp_g >= gn.get(adjacent, 0):\n",
    "                continue\n",
    "                \n",
    "            if  temp_g < gn.get(adjacent, 0) or adjacent not in [i[1]for i in shortestPath]:\n",
    "                pathDict[adjacent] = current\n",
    "                gn[adjacent] = temp_g\n",
    "                fn[adjacent] = temp_g + heuristicFunction(adjacent, end)\n",
    "                hq.heappush(shortestPath, (fn[adjacent], adjacent))\n",
    "                \n",
    "    return value   "
   ]
  },
  {
   "cell_type": "markdown",
   "metadata": {},
   "source": [
    "#### calculateThreshold()\n",
    "The below function divides the loaded data into normalized bins based on the grids and the threshold in the input and using the matplotlib plots the 2-D histogram for the map. "
   ]
  },
  {
   "cell_type": "code",
   "execution_count": 139,
   "metadata": {},
   "outputs": [],
   "source": [
    "def calculateThreshold(points,xA,yA,threshold,gridSize):\n",
    "    \n",
    "    xMin, xMax, yMin, yMax = -73.59,-73.55,45.49,45.53\n",
    "    noOfRows = math.ceil((xMax - xMin)/gridSize)\n",
    "    noOfColumns = math.ceil((yMax - yMin)/gridSize)  \n",
    "    \n",
    "    crimeDict = {}\n",
    "    \n",
    "    for i in range(len(points)):\n",
    "        k = xA[i],yA[i]\n",
    "        if k in crimeDict.keys():\n",
    "            crimeDict[xA[i],yA[i]]  = crimeDict[xA[i],yA[i]] + 1  \n",
    "        else:\n",
    "            crimeDict[xA[i],yA[i]] = 1\n",
    "    \n",
    "    listX = np.array([])\n",
    "    listY = np.array([])\n",
    "    \n",
    "    xAA = []\n",
    "    yAA = []\n",
    "    \n",
    "    for i,j in dict(sorted(crimeDict.items(), key=lambda kv: kv[1], reverse=True)).keys():\n",
    "        xAA = np.append(xAA,i)\n",
    "        yAA = np.append(yAA,j)\n",
    "          \n",
    "    lat = []\n",
    "    long = []\n",
    "    \n",
    "    x = sum(xAA)/len(xAA)\n",
    "    y = sum(yAA)/len(yAA)\n",
    "    \n",
    "    print(\"MEAN ALL : \", x,y)\n",
    "    \n",
    "    for i in range(int((noOfRows*noOfColumns)*((100-threshold)/100))):\n",
    "            listX = np.append(listX,xAA[i])\n",
    "            listY = np.append(listY,yAA[i])\n",
    "#             x = sum(listX)/len(listX)\n",
    "#             y = sum(listY)/len(listY)\n",
    "    \n",
    "#             print(\"MEAN : \", x,y)\n",
    "    l = plt.hist2d(listX,listY,bins=(noOfRows+1,noOfColumns+1))\n",
    "\n",
    "    xR=noOfRows+1\n",
    "    yR = noOfColumns+1\n",
    "    length = (len(l[0]))\n",
    "    parse = np.array([[0]*xR]*yR)\n",
    "    \n",
    "    \n",
    "    for i in range(0,length-1):\n",
    "        for j in range(0,length-1):\n",
    "            if l[0][i][j] > 0:\n",
    "                parse[i][j] = 1 \n",
    "            else:\n",
    "                parse[i][j] = 0\n",
    "    \n",
    "    parse = parse.transpose()\n",
    "    parse = parse[::-1]\n",
    "   \n",
    "    start =(noOfRows,noOfColumns)\n",
    "    goal = (0,0)\n",
    "    \n",
    "    value = []\n",
    "    status = False\n",
    "    directions = [(0,1),(0,-1),(1,0),(-1,0),(1,1),(1,-1),(-1,1),(-1,-1)]\n",
    "    fn = {start:heuristicFunction(start, goal)}\n",
    "    shortestPath = []\n",
    "    positions = set()\n",
    "    pathDict = {}\n",
    "    gn = {start:0}\n",
    "    hq.heappush(shortestPath, (fn[start], start))\n",
    "    \n",
    "    startTime = time.time()\n",
    "    solutionPath = pathCalculate(parse,start,goal,value,status,directions,fn,shortestPath,positions,pathDict,gn,hq)\n",
    "    \n",
    "    if parse[start] == 1 or parse[goal] == 1 or solutionPath == []:\n",
    "           print(\"ROUTE CANNOT BE TRAVERSED !\")\n",
    "    else:\n",
    "            \n",
    "        solutionPath = solutionPath + [start]\n",
    "        solutionPath = solutionPath[::-1]\n",
    "\n",
    "        l = plt.hist2d(xA,yA,bins=(noOfRows+1,noOfColumns+1))\n",
    "\n",
    "        x_coords = []\n",
    "        y_coords = []\n",
    "\n",
    "        for i in (range(0,len(solutionPath))):\n",
    "            x = solutionPath[i][0]\n",
    "            y = solutionPath[i][1]\n",
    "            x_coords.append(x)\n",
    "            y_coords.append(y)\n",
    "        fig, ax = plt.subplots()\n",
    "        ax.imshow(parse)\n",
    "    \n",
    "        ax.scatter(goal[1],goal[0], marker = 's')\n",
    "        ax.scatter(start[1],start[0], marker = 's')\n",
    "        ax.plot(y_coords,x_coords, color = \"white\")\n",
    "        \n",
    "        plt.show() \n",
    "        \n",
    "    end = time.time()\n",
    "    print(\"Time - taken :\", end - startTime)\n",
    "#             labels = [item.get_text() for item in ax.get_xticklabels()]\n",
    "#             labelsy = [item.get_text() for item in ax.get_yticklabels()]\n",
    "            \n",
    "            \n",
    "#             plt.xticks(np.arange(1, 7, 3))\n",
    "#             loc = plticker.MultipleLocator(base=3.33) \n",
    "    # this locator puts ticks at regular intervals\n",
    "#             loc1 = plticker.MultipleLocator(base=3.33)\n",
    "#             ax.xaxis.set_major_locator(loc)\n",
    "#             ax.yaxis.set_major_locator(loc1)\n",
    "#             lll =['-73.585','-73.580','-73.575','-73.570','-73.565','-73.560','-73.555']\n",
    "           \n",
    "#             labels[1] = lll[0]\n",
    "#             labels[2] = lll[1]\n",
    "#             labels[3] = lll[2]\n",
    "#             labels[4] = lll[3]\n",
    "#             labels[5] = lll[4]\n",
    "#             labels[6] = lll[5]\n",
    "#             labels[7] = lll[6]\n",
    "#             ax.set_xticklabels(labels)\n",
    "            \n",
    "#             lly=['45.495','45.500','45.505','45.510','45.515','45.520','45.525','45.530']\n",
    "            \n",
    "            \n",
    "#             labelsy[1] = lly[7]\n",
    "#             labelsy[2] = lly[6]\n",
    "#             labelsy[3] = lly[5]\n",
    "#             labelsy[4] = lly[4]\n",
    "#             labelsy[5] = lly[3]\n",
    "#             labelsy[6] = lly[2]\n",
    "#             labelsy[7] = lly[1]\n",
    "#             labelsy[8] = lly[0]\n",
    "#             ax.set_yticklabels(labelsy)\n",
    "        "
   ]
  },
  {
   "cell_type": "code",
   "execution_count": 140,
   "metadata": {},
   "outputs": [
    {
     "name": "stdout",
     "output_type": "stream",
     "text": [
      "Enter grid size : 0.002\n",
      "Enter Threshold : 90\n",
      "MEAN ALL :  -73.56802329130029 45.511132381741284\n"
     ]
    },
    {
     "data": {
      "image/png": "[encoded data removed]",
      "text/plain": [
       "<Figure size 432x288 with 1 Axes>"
      ]
     },
     "metadata": {
      "needs_background": "light"
     },
     "output_type": "display_data"
    },
    {
     "data": {
      "image/png": "[encoded data removed]",
      "text/plain": [
       "<Figure size 432x288 with 1 Axes>"
      ]
     },
     "metadata": {
      "needs_background": "light"
     },
     "output_type": "display_data"
    },
    {
     "name": "stdout",
     "output_type": "stream",
     "text": [
      "Time - taken : 0.2273876667022705\n"
     ]
    }
   ],
   "source": [
    "showMap()"
   ]
  },
  {
   "cell_type": "code",
   "execution_count": null,
   "metadata": {},
   "outputs": [],
   "source": []
  },
  {
   "cell_type": "code",
   "execution_count": null,
   "metadata": {},
   "outputs": [],
   "source": []
  },
  {
   "cell_type": "code",
   "execution_count": null,
   "metadata": {},
   "outputs": [],
   "source": []
  },
  {
   "cell_type": "code",
   "execution_count": null,
   "metadata": {},
   "outputs": [],
   "source": []
  },
  {
   "cell_type": "code",
   "execution_count": null,
   "metadata": {},
   "outputs": [],
   "source": []
  },
  {
   "cell_type": "code",
   "execution_count": null,
   "metadata": {},
   "outputs": [],
   "source": []
  },
  {
   "cell_type": "code",
   "execution_count": null,
   "metadata": {},
   "outputs": [],
   "source": []
  },
  {
   "cell_type": "code",
   "execution_count": null,
   "metadata": {},
   "outputs": [],
   "source": []
  },
  {
   "cell_type": "code",
   "execution_count": null,
   "metadata": {},
   "outputs": [],
   "source": []
  },
  {
   "cell_type": "code",
   "execution_count": null,
   "metadata": {},
   "outputs": [],
   "source": []
  }
 ],
 "metadata": {
  "kernelspec": {
   "display_name": "Python 3",
   "language": "python",
   "name": "python3"
  },
  "language_info": {
   "codemirror_mode": {
    "name": "ipython",
    "version": 3
   },
   "file_extension": ".py",
   "mimetype": "text/x-python",
   "name": "python",
   "nbconvert_exporter": "python",
   "pygments_lexer": "ipython3",
   "version": "3.7.3"
  }
 },
 "nbformat": 4,
 "nbformat_minor": 2
}
