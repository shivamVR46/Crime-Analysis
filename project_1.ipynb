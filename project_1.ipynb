{
 "cells": [
  {
   "cell_type": "code",
   "execution_count": 24,
   "metadata": {},
   "outputs": [
    {
     "name": "stdout",
     "output_type": "stream",
     "text": [
      "{}\n"
     ]
    },
    {
     "data": {
      "image/png": "[encoded data removed]",
      "text/plain": [
       "<Figure size 432x288 with 1 Axes>"
      ]
     },
     "metadata": {
      "needs_background": "light"
     },
     "output_type": "display_data"
    }
   ],
   "source": [
    "import geopandas as gp\n",
    "from geopandas import GeoDataFrame\n",
    "import numpy as np\n",
    "import pandas as pd\n",
    "import shapefile as shp\n",
    "import matplotlib.pyplot as plt\n",
    "from descartes import PolygonPatch\n",
    "from shapely.geometry import Point,Polygon,MultiPolygon\n",
    "import seaborn as sns\n",
    "%matplotlib inline\n",
    "import _locale\n",
    "_locale._getdefaultlocale = (lambda *args: ['en_US', 'utf8'])\n",
    "\n",
    "\n",
    "\n",
    "shape = gp.read_file(\"D:\\Shape\\crime_dt.shp\")\n",
    "path = \"D:\\Shape\\crime_dt.shp\"\n",
    "test = GeoDataFrame.from_file(path,encoding='latin-1')\n",
    "# print(shape)\n",
    "\n",
    "shape.head()\n",
    "sf = shp.Reader(path,encoding='latin-1')\n",
    "\n",
    "test['x'] = test['geometry'].x\n",
    "test['y'] = test['geometry'].y\n",
    "\n",
    "# This commands the whole shape file as polygons\n",
    "# f, ax = plt.subplots(1)\n",
    "# shape.plot()\n",
    "\n",
    "# test['x'][0].plot(ax=ax,color='yellow', marker='s')\n",
    "\n",
    "#Below code till plt.show parses and places each point on the graph : O(n)\n",
    "# for i in range(0,len(test['x'])-1):\n",
    "#         plt.scatter(test['x'][i],test['y'][i],c='blue',marker='s')\n",
    "    \n",
    "# plt.show()\n",
    "\n",
    "# mean = []\n",
    "# count = 1\n",
    "\n",
    "#This command will change the size of whole graph\n",
    "\n",
    "points = test['geometry']\n",
    "\n",
    "mean_area_x = test['x'].mean()\n",
    "mean_area_y = test['y'].mean()\n",
    "std_x = np.std(test['x'])\n",
    "std_y = np.std(test['y'])\n",
    "\n",
    "# print(mean_area)\n",
    "\n",
    "map = {}\n",
    "count = 1\n",
    "\n",
    "print(map)\n",
    "\n",
    "# shape.plot()\n",
    "\n",
    "for i in range(1000):\n",
    "        if test['x'][i]>mean_area_x:\n",
    "            if test['y'][i]>mean_area_y:\n",
    "                plt.scatter(test['x'][i],test['y'][i],marker='s',c='yellow')\n",
    "        else:\n",
    "            plt.scatter(test['x'][i],test['y'][i],marker='s',c='blue')\n",
    "\n",
    "plt.show()\n",
    "\n",
    "# shape.plot(cmap=None, legend=True, figsize=(20, 20),marker='s')\n",
    "\n",
    "#Below code has a list name mean for each index and it increases linearly when same location arrives consecutively\n",
    "# Not like hashmap just for testing i have made random constraint just to see if graph changes\n",
    "# for x in range(len(shape)-1):\n",
    "#     if(test['x'][x]==test['x'][x+1]):\n",
    "#        if(test['y'][x]==test['y'][x+1]):\n",
    "#             mean.append(count + 1) \n",
    "#     elif(test['y'][x]!=test['y'][x+1]):\n",
    "#             mean.append(0)\n",
    "\n",
    "# print(mean[5])\n",
    "            \n",
    "# Below according to the value of mean i wanted to change the colour of points coming \n",
    "# f, ax = plt.subplots(1)\n",
    "# shape.plot(ax=ax)\n",
    "# for i in range(10):\n",
    "#     print(i,mean[i],end=\":\")\n",
    "#     if mean[i] == 2 :\n",
    "#         shape.plot(ax=ax,cmap=None,c='yellow')\n",
    "#     else:\n",
    "#         shape.subplot(ax=ax,c='blue')\n",
    "        \n",
    "# plt.show()\n",
    "#End of today's work\n",
    "\n",
    "\n",
    "# xBoundary = [-73.59,-73.55,-73.55,-73.59]\n",
    "# yBoundary = [45.49,45.49,43.55,43.55]\n",
    "# xmin=-73.59\n",
    "# ymin=43.55\n",
    "# xmax=-73.55\n",
    "# ymax=45.49\n",
    "\n",
    "\n",
    "# length = 1000\n",
    "# wide = 2000\n",
    "\n",
    "# cols = list(range(int(np.floor(xmin)), int(np.ceil(xmax)), wide))\n",
    "# rows = list(range(int(np.floor(ymin)), int(np.ceil(ymax)), length))\n",
    "# rows.reverse()\n",
    "\n",
    "# polygons = []\n",
    "# for x in cols:\n",
    "#     for y in rows:\n",
    "#         if test['CATEGORIE'][y] != \"Introduction\":\n",
    "#             polygons.append( Polygon([(x,y), (x+wide, y), (x+wide, y-length), (x, y-length)]) )\n",
    "\n",
    "# grid = gp.GeoDataFrame({'geometry':polygons})\n",
    "# grid.plot()\n",
    "\n",
    "# plt.scatter(xx,yy)\n",
    "# print(test['x'])\n",
    "# for x in range(0,100):\n",
    "# len(test['x'])-1):\n",
    "#     plt.plot(test['x'][x],test['y'],[x])\n",
    "#     plt.scatter(test['x'][x],test['y'][x],marker='s',c='yellow')\n",
    "    \n",
    "# plt.show()\n",
    "\n",
    "\n",
    "    \n"
   ]
  },
  {
   "cell_type": "code",
   "execution_count": null,
   "metadata": {},
   "outputs": [],
   "source": []
  },
  {
   "cell_type": "code",
   "execution_count": null,
   "metadata": {},
   "outputs": [],
   "source": []
  },
  {
   "cell_type": "code",
   "execution_count": null,
   "metadata": {},
   "outputs": [],
   "source": []
  },
  {
   "cell_type": "code",
   "execution_count": 94,
   "metadata": {},
   "outputs": [
    {
     "data": {
      "image/png": "[encoded data removed]",
      "text/plain": [
       "<Figure size 432x288 with 1 Axes>"
      ]
     },
     "metadata": {
      "needs_background": "light"
     },
     "output_type": "display_data"
    }
   ],
   "source": [
    " x = [-73.59,-73.55,-73.55,-73.59]\n",
    " y = [45.49,45.49,43.55,43.55]\n",
    " xx = [-73.59,-73.55,-73.55,-73.59]\n",
    " yy = [45.49,45.49,43.55,43.55]\n",
    " x1 = plt.scatter(x,y)\n",
    " x2 = plt.scatter(xx,yy,c='blue')"
   ]
  },
  {
   "cell_type": "code",
   "execution_count": null,
   "metadata": {},
   "outputs": [],
   "source": []
  },
  {
   "cell_type": "code",
   "execution_count": 43,
   "metadata": {},
   "outputs": [
    {
     "name": "stdout",
     "output_type": "stream",
     "text": [
      "<matplotlib.collections.PathCollection object at 0x0000017E5E397860>\n"
     ]
    }
   ],
   "source": []
  },
  {
   "cell_type": "code",
   "execution_count": null,
   "metadata": {},
   "outputs": [],
   "source": []
  }
 ],
 "metadata": {
  "kernelspec": {
   "display_name": "Python 3",
   "language": "python",
   "name": "python3"
  },
  "language_info": {
   "codemirror_mode": {
    "name": "ipython",
    "version": 3
   },
   "file_extension": ".py",
   "mimetype": "text/x-python",
   "name": "python",
   "nbconvert_exporter": "python",
   "pygments_lexer": "ipython3",
   "version": "3.7.3"
  }
 },
 "nbformat": 4,
 "nbformat_minor": 2
}
