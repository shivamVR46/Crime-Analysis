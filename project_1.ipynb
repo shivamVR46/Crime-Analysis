{
 "cells": [
  {
   "cell_type": "code",
   "execution_count": 169,
   "metadata": {},
   "outputs": [
    {
     "name": "stdout",
     "output_type": "stream",
     "text": [
      "1177\n"
     ]
    },
    {
     "data": {
      "image/png": "[encoded data removed]",
      "text/plain": [
       "<Figure size 360x360 with 1 Axes>"
      ]
     },
     "metadata": {
      "needs_background": "light"
     },
     "output_type": "display_data"
    }
   ],
   "source": [
    "import geopandas as gp\n",
    "from geopandas import GeoDataFrame\n",
    "import numpy as np\n",
    "import pandas as pd\n",
    "import shapefile as shp\n",
    "import matplotlib.pyplot as plt\n",
    "from descartes import PolygonPatch\n",
    "from shapely.geometry import Point,Polygon,MultiPolygon\n",
    "from shapely.ops import nearest_points\n",
    "import seaborn as sns\n",
    "import attr\n",
    "%matplotlib inline\n",
    "import _locale\n",
    "_locale._getdefaultlocale = (lambda *args: ['en_US', 'utf8'])\n",
    "\n",
    "\n",
    "\n",
    "\n",
    "def showMap():\n",
    "    shape = gp.read_file(\"D:\\Shape\\crime_dt.shp\")\n",
    "    path = \"D:\\Shape\\crime_dt.shp\"\n",
    "    test = GeoDataFrame.from_file(path,encoding='latin-1')\n",
    "    sf = shp.Reader(path,encoding='latin-1')\n",
    "\n",
    "    points = test['geometry']\n",
    "    xA = test['geometry'].x\n",
    "    yA = test['geometry'].y\n",
    "    \n",
    "    \n",
    "#     plt.scatter(test['geometry'].x,test['geometry'].y,marker='s')\n",
    "#     print(points[0])\n",
    "    calculateThreshold(points,xA,yA)\n",
    "\n",
    "#proper calculation of threshold is left !    \n",
    "def calculateThreshold(points,xA,yA):\n",
    "    crimeDict = {}\n",
    "    \n",
    "    for i in range(len(points)):\n",
    "        k = xA[i],yA[i]\n",
    "        if k in crimeDict.keys():\n",
    "#             print(\"going\")\n",
    "            crimeDict[xA[i],yA[i]]  = crimeDict[xA[i],yA[i]] + 1  \n",
    "        else:\n",
    "            crimeDict[xA[i],yA[i]] = 1\n",
    "#         print(crimeDict[xA[i],yA[i]])\n",
    "    showCrimeMap(crimeDict,points,xA,yA)\n",
    "\n",
    "        \n",
    "def showCrimeMap(crimeDict,points,xA,yA):\n",
    "    print(len(crimeDict))\n",
    "    \n",
    "    fig_size = [5,5]\n",
    "    plt.rcParams[\"figure.figsize\"] = fig_size\n",
    "    plt.scatter(xA,yA,marker='s')\n",
    "    for i in range(len(crimeDict)):\n",
    "        k = xA[i],yA[i]\n",
    "        if crimeDict[k] > 10:\n",
    "            plt.scatter(xA[i],y[i],marker='s',color='yellow')\n",
    "\n",
    "    \n",
    "    \n",
    "    \n",
    "showMap()\n",
    "\n",
    "# points = []\n",
    "\n",
    "# for i in range(len(test['geometry'])):\n",
    "#     points.append(test['geometry'][i])\n",
    "    \n",
    "# crimeDict = {}\n",
    "\n",
    "# # x_min=-73.59\n",
    "# # y_min=43.55\n",
    "# # x_max=-73.55\n",
    "# # y_max=45.49\n",
    "\n",
    "# t =[]\n",
    "# s= []\n",
    "# for i in range(len(points)-1):\n",
    "#     t.append(points[i])\n",
    "#     s.append(points[i+1])\n",
    "\n",
    "    \n",
    "    \n",
    "# fig_size = [5,5]\n",
    "# plt.rcParams[\"figure.figsize\"] = fig_size\n",
    "# ff =[]\n",
    "# for o in nearest_points(t, s):\n",
    "#             print(o)\n",
    "    \n",
    "    \n",
    "# plt.scatter(x,y,marker='s')\n",
    "# plt.show()\n",
    "\n"
   ]
  },
  {
   "cell_type": "code",
   "execution_count": null,
   "metadata": {},
   "outputs": [],
   "source": []
  },
  {
   "cell_type": "code",
   "execution_count": null,
   "metadata": {},
   "outputs": [],
   "source": []
  },
  {
   "cell_type": "code",
   "execution_count": null,
   "metadata": {},
   "outputs": [],
   "source": []
  },
  {
   "cell_type": "code",
   "execution_count": null,
   "metadata": {},
   "outputs": [],
   "source": []
  },
  {
   "cell_type": "code",
   "execution_count": null,
   "metadata": {},
   "outputs": [],
   "source": []
  },
  {
   "cell_type": "code",
   "execution_count": null,
   "metadata": {},
   "outputs": [],
   "source": []
  },
  {
   "cell_type": "code",
   "execution_count": null,
   "metadata": {},
   "outputs": [],
   "source": []
  }
 ],
 "metadata": {
  "kernelspec": {
   "display_name": "Python 3",
   "language": "python",
   "name": "python3"
  },
  "language_info": {
   "codemirror_mode": {
    "name": "ipython",
    "version": 3
   },
   "file_extension": ".py",
   "mimetype": "text/x-python",
   "name": "python",
   "nbconvert_exporter": "python",
   "pygments_lexer": "ipython3",
   "version": "3.7.3"
  }
 },
 "nbformat": 4,
 "nbformat_minor": 2
}
