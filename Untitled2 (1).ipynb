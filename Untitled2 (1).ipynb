{
 "cells": [
  {
   "cell_type": "code",
   "execution_count": 3,
   "metadata": {},
   "outputs": [],
   "source": [
    "import geopandas as gp\n",
    "from geopandas import GeoDataFrame\n",
    "import numpy as np\n",
    "import pandas as pd\n",
    "import shapefile as shp\n",
    "import matplotlib.pyplot as plt\n",
    "from descartes import PolygonPatch\n",
    "from shapely.geometry import Point,Polygon,MultiPolygon\n",
    "import seaborn as sns\n",
    "%matplotlib inline\n",
    "import _locale\n",
    "_locale._getdefaultlocale = (lambda *args: ['en_US', 'utf8'])"
   ]
  },
  {
   "cell_type": "code",
   "execution_count": 30,
   "metadata": {},
   "outputs": [
    {
     "data": {
      "image/png": "[encoded data removed]",
      "text/plain": [
       "<Figure size 432x288 with 1 Axes>"
      ]
     },
     "metadata": {
      "needs_background": "light"
     },
     "output_type": "display_data"
    }
   ],
   "source": [
    "shape = gp.read_file(\"D:\\Shape\\crime_dt.shp\")\n",
    "# fig.ax = plt.subplots(15,15)\n",
    "# shape.plot(ax=ax)\n",
    "path = \"D:\\Shape\\crime_dt.shp\"\n",
    "# sf = shp.Reader(path,encoding='latin-1')\n",
    "test = GeoDataFrame.from_file(path,encoding='latin-1')\n",
    "# points = test['geometry']\n",
    "# print(shape)\n",
    "# print(points)\n",
    "\n",
    "test['x'] = test['geometry'].x\n",
    "test['y'] = test['geometry'].y\n",
    "\n",
    "# xBoundary = [-73.59,-73.55,-73.55,-73.59]\n",
    "# yBoundary = [45.49,45.49,43.55,43.55]\n",
    "# xmin=-73.59\n",
    "# ymin=43.55\n",
    "# xmax=-73.55\n",
    "# ymax=45.49\n",
    "\n",
    "\n",
    "# length = 1000\n",
    "# wide = 2000\n",
    "\n",
    "# cols = list(range(int(np.floor(xmin)), int(np.ceil(xmax)), wide))\n",
    "# rows = list(range(int(np.floor(ymin)), int(np.ceil(ymax)), length))\n",
    "# rows.reverse()\n",
    "\n",
    "# polygons = []\n",
    "# for x in cols:\n",
    "#     for y in rows:\n",
    "#         if test['CATEGORIE'][y] != \"Introduction\":\n",
    "#             polygons.append( Polygon([(x,y), (x+wide, y), (x+wide, y-length), (x, y-length)]) )\n",
    "\n",
    "# grid = gp.GeoDataFrame({'geometry':polygons})\n",
    "# grid.plot()\n",
    "\n",
    "# plt.scatter(xx,yy)\n",
    "# print(test['x'])\n",
    "for x in range(0,5000):\n",
    "# len(test['x'])-1):\n",
    "#     plt.plot(test['x'][x],test['y'],[x])\n",
    "    plt.scatter(test['x'][x],test['y'][x],marker='s',c='yellow')\n",
    "    \n",
    "plt.show()\n",
    "\n",
    "\n",
    "    \n"
   ]
  },
  {
   "cell_type": "code",
   "execution_count": 85,
   "metadata": {},
   "outputs": [
    {
     "ename": "ValueError",
     "evalue": "The truth value of a Series is ambiguous. Use a.empty, a.bool(), a.item(), a.any() or a.all().",
     "output_type": "error",
     "traceback": [
      "\u001b[1;31m---------------------------------------------------------------------------\u001b[0m",
      "\u001b[1;31mValueError\u001b[0m                                Traceback (most recent call last)",
      "\u001b[1;32m<ipython-input-85-1e12b89edd89>\u001b[0m in \u001b[0;36m<module>\u001b[1;34m\u001b[0m\n\u001b[0;32m      4\u001b[0m \u001b[0mfig\u001b[0m \u001b[1;33m=\u001b[0m \u001b[0mplt\u001b[0m\u001b[1;33m.\u001b[0m\u001b[0mfigure\u001b[0m\u001b[1;33m(\u001b[0m\u001b[1;33m)\u001b[0m\u001b[1;33m\u001b[0m\u001b[1;33m\u001b[0m\u001b[0m\n\u001b[0;32m      5\u001b[0m \u001b[0max\u001b[0m \u001b[1;33m=\u001b[0m \u001b[0mfig\u001b[0m\u001b[1;33m.\u001b[0m\u001b[0mgca\u001b[0m\u001b[1;33m(\u001b[0m\u001b[1;33m)\u001b[0m\u001b[1;33m\u001b[0m\u001b[1;33m\u001b[0m\u001b[0m\n\u001b[1;32m----> 6\u001b[1;33m \u001b[0max\u001b[0m\u001b[1;33m.\u001b[0m\u001b[0madd_patch\u001b[0m\u001b[1;33m(\u001b[0m\u001b[0mPolygonPatch\u001b[0m\u001b[1;33m(\u001b[0m\u001b[0mtest\u001b[0m\u001b[1;33m[\u001b[0m\u001b[1;34m'geometry'\u001b[0m\u001b[1;33m]\u001b[0m\u001b[1;33m,\u001b[0m \u001b[0mfc\u001b[0m\u001b[1;33m=\u001b[0m\u001b[0mBLUE\u001b[0m\u001b[1;33m,\u001b[0m \u001b[0mec\u001b[0m\u001b[1;33m=\u001b[0m\u001b[0mBLUE\u001b[0m\u001b[1;33m,\u001b[0m \u001b[0malpha\u001b[0m\u001b[1;33m=\u001b[0m\u001b[1;36m0.5\u001b[0m\u001b[1;33m,\u001b[0m \u001b[0mzorder\u001b[0m\u001b[1;33m=\u001b[0m\u001b[1;36m2\u001b[0m\u001b[1;33m)\u001b[0m\u001b[1;33m)\u001b[0m\u001b[1;33m\u001b[0m\u001b[1;33m\u001b[0m\u001b[0m\n\u001b[0m\u001b[0;32m      7\u001b[0m \u001b[0max\u001b[0m\u001b[1;33m.\u001b[0m\u001b[0maxis\u001b[0m\u001b[1;33m(\u001b[0m\u001b[1;34m'scaled'\u001b[0m\u001b[1;33m)\u001b[0m\u001b[1;33m\u001b[0m\u001b[1;33m\u001b[0m\u001b[0m\n\u001b[0;32m      8\u001b[0m \u001b[0mplt\u001b[0m\u001b[1;33m.\u001b[0m\u001b[0mshow\u001b[0m\u001b[1;33m(\u001b[0m\u001b[1;33m)\u001b[0m\u001b[1;33m\u001b[0m\u001b[1;33m\u001b[0m\u001b[0m\n",
      "\u001b[1;32m~\\Anaconda3\\lib\\site-packages\\descartes\\patch.py\u001b[0m in \u001b[0;36mPolygonPatch\u001b[1;34m(polygon, **kwargs)\u001b[0m\n\u001b[0;32m     85\u001b[0m \u001b[1;33m\u001b[0m\u001b[0m\n\u001b[0;32m     86\u001b[0m     \"\"\"\n\u001b[1;32m---> 87\u001b[1;33m     \u001b[1;32mreturn\u001b[0m \u001b[0mPathPatch\u001b[0m\u001b[1;33m(\u001b[0m\u001b[0mPolygonPath\u001b[0m\u001b[1;33m(\u001b[0m\u001b[0mpolygon\u001b[0m\u001b[1;33m)\u001b[0m\u001b[1;33m,\u001b[0m \u001b[1;33m**\u001b[0m\u001b[0mkwargs\u001b[0m\u001b[1;33m)\u001b[0m\u001b[1;33m\u001b[0m\u001b[1;33m\u001b[0m\u001b[0m\n\u001b[0m",
      "\u001b[1;32m~\\Anaconda3\\lib\\site-packages\\descartes\\patch.py\u001b[0m in \u001b[0;36mPolygonPath\u001b[1;34m(polygon)\u001b[0m\n\u001b[0;32m     41\u001b[0m     \u001b[1;32mif\u001b[0m \u001b[0mhasattr\u001b[0m\u001b[1;33m(\u001b[0m\u001b[0mpolygon\u001b[0m\u001b[1;33m,\u001b[0m \u001b[1;34m'geom_type'\u001b[0m\u001b[1;33m)\u001b[0m\u001b[1;33m:\u001b[0m  \u001b[1;31m# Shapely\u001b[0m\u001b[1;33m\u001b[0m\u001b[1;33m\u001b[0m\u001b[0m\n\u001b[0;32m     42\u001b[0m         \u001b[0mptype\u001b[0m \u001b[1;33m=\u001b[0m \u001b[0mpolygon\u001b[0m\u001b[1;33m.\u001b[0m\u001b[0mgeom_type\u001b[0m\u001b[1;33m\u001b[0m\u001b[1;33m\u001b[0m\u001b[0m\n\u001b[1;32m---> 43\u001b[1;33m         \u001b[1;32mif\u001b[0m \u001b[0mptype\u001b[0m \u001b[1;33m==\u001b[0m \u001b[1;34m'Polygon'\u001b[0m\u001b[1;33m:\u001b[0m\u001b[1;33m\u001b[0m\u001b[1;33m\u001b[0m\u001b[0m\n\u001b[0m\u001b[0;32m     44\u001b[0m             \u001b[0mpolygon\u001b[0m \u001b[1;33m=\u001b[0m \u001b[1;33m[\u001b[0m\u001b[0mPolygon\u001b[0m\u001b[1;33m(\u001b[0m\u001b[0mpolygon\u001b[0m\u001b[1;33m)\u001b[0m\u001b[1;33m]\u001b[0m\u001b[1;33m\u001b[0m\u001b[1;33m\u001b[0m\u001b[0m\n\u001b[0;32m     45\u001b[0m         \u001b[1;32melif\u001b[0m \u001b[0mptype\u001b[0m \u001b[1;33m==\u001b[0m \u001b[1;34m'MultiPolygon'\u001b[0m\u001b[1;33m:\u001b[0m\u001b[1;33m\u001b[0m\u001b[1;33m\u001b[0m\u001b[0m\n",
      "\u001b[1;32m~\\Anaconda3\\lib\\site-packages\\pandas\\core\\generic.py\u001b[0m in \u001b[0;36m__nonzero__\u001b[1;34m(self)\u001b[0m\n\u001b[0;32m   1476\u001b[0m         raise ValueError(\"The truth value of a {0} is ambiguous. \"\n\u001b[0;32m   1477\u001b[0m                          \u001b[1;34m\"Use a.empty, a.bool(), a.item(), a.any() or a.all().\"\u001b[0m\u001b[1;33m\u001b[0m\u001b[1;33m\u001b[0m\u001b[0m\n\u001b[1;32m-> 1478\u001b[1;33m                          .format(self.__class__.__name__))\n\u001b[0m\u001b[0;32m   1479\u001b[0m \u001b[1;33m\u001b[0m\u001b[0m\n\u001b[0;32m   1480\u001b[0m     \u001b[0m__bool__\u001b[0m \u001b[1;33m=\u001b[0m \u001b[0m__nonzero__\u001b[0m\u001b[1;33m\u001b[0m\u001b[1;33m\u001b[0m\u001b[0m\n",
      "\u001b[1;31mValueError\u001b[0m: The truth value of a Series is ambiguous. Use a.empty, a.bool(), a.item(), a.any() or a.all()."
     ]
    },
    {
     "data": {
      "image/png": "[encoded data removed]",
      "text/plain": [
       "<Figure size 432x288 with 1 Axes>"
      ]
     },
     "metadata": {
      "needs_background": "light"
     },
     "output_type": "display_data"
    }
   ],
   "source": [
    "# type(test['geometry'][2])\n",
    "BLUE = '#6699cc'\n",
    "poly = test['geometry']\n",
    "fig = plt.figure() \n",
    "ax = fig.gca() \n",
    "ax.add_patch(PolygonPatch(test['geometry'], fc=BLUE, ec=BLUE, alpha=0.5, zorder=2))\n",
    "# ax.axis('scaled')\n",
    "plt.show()\n"
   ]
  },
  {
   "cell_type": "code",
   "execution_count": 48,
   "metadata": {},
   "outputs": [
    {
     "name": "stdout",
     "output_type": "stream",
     "text": [
      "Vol dans / sur véhicule à moteur\n"
     ]
    }
   ],
   "source": [
    "print(sf.records()[19009][0])"
   ]
  },
  {
   "cell_type": "code",
   "execution_count": 94,
   "metadata": {},
   "outputs": [
    {
     "data": {
      "image/png": "[encoded data removed]",
      "text/plain": [
       "<Figure size 432x288 with 1 Axes>"
      ]
     },
     "metadata": {
      "needs_background": "light"
     },
     "output_type": "display_data"
    }
   ],
   "source": [
    " x = [-73.59,-73.55,-73.55,-73.59]\n",
    " y = [45.49,45.49,43.55,43.55]\n",
    " xx = [-73.59,-73.55,-73.55,-73.59]\n",
    " yy = [45.49,45.49,43.55,43.55]\n",
    " x1 = plt.scatter(x,y)\n",
    " x2 = plt.scatter(xx,yy,c='blue')"
   ]
  },
  {
   "cell_type": "code",
   "execution_count": null,
   "metadata": {},
   "outputs": [],
   "source": []
  },
  {
   "cell_type": "code",
   "execution_count": 43,
   "metadata": {},
   "outputs": [
    {
     "name": "stdout",
     "output_type": "stream",
     "text": [
      "<matplotlib.collections.PathCollection object at 0x0000017E5E397860>\n"
     ]
    }
   ],
   "source": []
  },
  {
   "cell_type": "code",
   "execution_count": null,
   "metadata": {},
   "outputs": [],
   "source": []
  }
 ],
 "metadata": {
  "kernelspec": {
   "display_name": "Python 3",
   "language": "python",
   "name": "python3"
  },
  "language_info": {
   "codemirror_mode": {
    "name": "ipython",
    "version": 3
   },
   "file_extension": ".py",
   "mimetype": "text/x-python",
   "name": "python",
   "nbconvert_exporter": "python",
   "pygments_lexer": "ipython3",
   "version": "3.7.3"
  }
 },
 "nbformat": 4,
 "nbformat_minor": 2
}
